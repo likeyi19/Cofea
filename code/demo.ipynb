{
 "cells": [
  {
   "cell_type": "code",
   "execution_count": null,
   "metadata": {},
   "outputs": [],
   "source": [
    "import numpy as np\n",
    "import scanpy as sc\n",
    "from sklearn.decomposition import PCA\n",
    "import matplotlib.pyplot as plt\n",
    "import seaborn as sns\n",
    "import umap\n",
    "import pandas as pd\n",
    "import os\n",
    "import scipy\n",
    "import hdf5storage\n",
    "from feature_selection import feature_selection\n",
    "from tool import *"
   ]
  },
  {
   "attachments": {},
   "cell_type": "markdown",
   "metadata": {},
   "source": [
    "# Read Data"
   ]
  },
  {
   "cell_type": "code",
   "execution_count": null,
   "metadata": {},
   "outputs": [],
   "source": [
    "select_num = 20000\n",
    "seed_base = 2\n",
    "filter_para = 0.01"
   ]
  },
  {
   "cell_type": "code",
   "execution_count": null,
   "metadata": {},
   "outputs": [],
   "source": [
    "print('load dataset...')\n",
    "file_path = '../data/'\n",
    "fr = open(file_path + \"ALL_blood\" + '.txt','r')\n",
    "entries = fr.readlines()\n",
    "fr.close()\n",
    "n = len(entries)\n",
    "indexes = []\n",
    "for i, entry in enumerate(entries):\n",
    "    chrkey, start, end = entry.split('_')[:3]\n",
    "    indexes.append([chrkey, start, end[:-1]])\n",
    "\n",
    "sc_mat = hdf5storage.loadmat(file_path + \"ALL_blood\" + '.mat')\n",
    "ATAC_count = sc_mat['count_mat']\n",
    "label_r = sc_mat['label_mat']\n",
    "label = []\n",
    "for l in label_r:\n",
    "    label.append(l[0][0])\n",
    "peaks = []\n",
    "for peak in indexes:\n",
    "    peaks.append(peak[0]+'_'+peak[1]+'_'+peak[2])\n",
    "peaks = np.array(peaks)\n",
    "\n",
    "Y = np.array(ATAC_count,dtype = 'float32')\n",
    "print(np.max(Y))\n",
    "ATAC_all = sc.AnnData(scipy.sparse.csc_matrix(Y.T))\n",
    "ATAC_all.obs['label'] = label\n",
    "ATAC_all"
   ]
  },
  {
   "cell_type": "code",
   "execution_count": null,
   "metadata": {},
   "outputs": [],
   "source": [
    "idx, ATAC_count_filter = feature_selection(ATAC_all, select_num, seed_base, filter_para)"
   ]
  },
  {
   "cell_type": "code",
   "execution_count": null,
   "metadata": {},
   "outputs": [],
   "source": [
    "print('选择peak后矩阵维度为{}'.format(ATAC_count_filter.shape))\n",
    "ATAC_count_filter = PCA(n_components=10,random_state=int(seed_base*1000)).fit_transform(ATAC_count_filter)\n",
    "print('pca后矩阵维度为{}'.format(ATAC_count_filter.shape))\n",
    "ATAC_pca = sc.AnnData(scipy.sparse.csc_matrix(ATAC_count_filter),dtype = 'float32')\n",
    "ATAC_pca.obs['label'] = list(ATAC_all.obs['label'])\n",
    "\n",
    "# umap\n",
    "label = ATAC_pca.obs['label']\n",
    "proj = umap.UMAP().fit_transform(ATAC_count_filter)\n",
    "df = {'component_1':proj[:, 0],\\\n",
    "    'component_2':proj[:, 1], \\\n",
    "    'label':label}\n",
    "df = pd.DataFrame(df)\n",
    "ax = sns.scatterplot(x=\"component_1\", y=\"component_2\", hue=\"label\",palette = 'Dark2', s=5,linewidth = 0.05, data=df)\n",
    "ax.legend()\n",
    "plt.show()\n",
    "\n",
    "sc.pp.neighbors(ATAC_pca, n_neighbors=15, use_rep='X',random_state=seed_base*1000)\n",
    "louvain_df = run_louvain(ATAC_pca,'label','cluster',seed=int(seed_base*1000))\n",
    "print(\"cluster results:\")\n",
    "print(louvain_df)\n",
    "# 计算轮廓系数\n",
    "ATAC_pca.obsm['latent'] = scipy.sparse.csc_matrix(ATAC_count_filter)\n",
    "print(\"ASW:\")\n",
    "print(silhouette(adata=ATAC_pca, group_key='label', embed='latent'))\n",
    "# 计算clisi_graph\n",
    "ATAC_pca.obsm['X_emb'] = scipy.sparse.csc_matrix(ATAC_count_filter)\n",
    "ATAC_pca.obs['label'] = ATAC_pca.obs['label'].astype('category')\n",
    "print(\"cLISI:\")\n",
    "print(clisi_graph(adata=ATAC_pca, label_key='label', type_='embed'))"
   ]
  }
 ],
 "metadata": {
  "language_info": {
   "name": "python"
  },
  "orig_nbformat": 4
 },
 "nbformat": 4,
 "nbformat_minor": 2
}
