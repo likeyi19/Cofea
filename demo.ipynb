{
 "cells": [
  {
   "cell_type": "code",
   "execution_count": null,
   "metadata": {},
   "outputs": [],
   "source": [
    "import numpy as np\n",
    "import scanpy as sc\n",
    "from sklearn.decomposition import PCA\n",
    "import matplotlib.pyplot as plt\n",
    "import seaborn as sns\n",
    "import umap\n",
    "import pandas as pd\n",
    "import os\n",
    "import scipy\n",
    "import hdf5storage\n",
    "from code.feature_selection import feature_selection\n",
    "from code.tool import *\n",
    "from code.evaluation import evaluation"
   ]
  },
  {
   "attachments": {},
   "cell_type": "markdown",
   "metadata": {},
   "source": [
    "# Read Data"
   ]
  },
  {
   "cell_type": "code",
   "execution_count": null,
   "metadata": {},
   "outputs": [],
   "source": [
    "select_num = 20000\n",
    "seed_base = 2\n",
    "filter_para = 0.01"
   ]
  },
  {
   "cell_type": "code",
   "execution_count": null,
   "metadata": {},
   "outputs": [],
   "source": [
    "print('load dataset...')\n",
    "file_path = '../data/'\n",
    "fr = open(file_path + \"ALL_blood\" + '.txt','r')\n",
    "entries = fr.readlines()\n",
    "fr.close()\n",
    "n = len(entries)\n",
    "indexes = []\n",
    "for i, entry in enumerate(entries):\n",
    "    chrkey, start, end = entry.split('_')[:3]\n",
    "    indexes.append([chrkey, start, end[:-1]])\n",
    "\n",
    "sc_mat = hdf5storage.loadmat(file_path + \"ALL_blood\" + '.mat')\n",
    "ATAC_count = sc_mat['count_mat']\n",
    "label_r = sc_mat['label_mat']\n",
    "label = []\n",
    "for l in label_r:\n",
    "    label.append(l[0][0])\n",
    "peaks = []\n",
    "for peak in indexes:\n",
    "    peaks.append(peak[0]+'_'+peak[1]+'_'+peak[2])\n",
    "peaks = np.array(peaks)\n",
    "\n",
    "Y = np.array(ATAC_count,dtype = 'float32')\n",
    "print(np.max(Y))\n",
    "ATAC_all = sc.AnnData(scipy.sparse.csc_matrix(Y.T))\n",
    "ATAC_all.obs['label'] = label\n",
    "ATAC_all"
   ]
  },
  {
   "attachments": {},
   "cell_type": "markdown",
   "metadata": {},
   "source": [
    "# Feature Selection"
   ]
  },
  {
   "cell_type": "code",
   "execution_count": null,
   "metadata": {},
   "outputs": [],
   "source": [
    "idx, ATAC_count_filter = feature_selection(ATAC_all, select_num, seed_base, filter_para)"
   ]
  },
  {
   "attachments": {},
   "cell_type": "markdown",
   "metadata": {},
   "source": [
    "# Evaluation"
   ]
  },
  {
   "cell_type": "code",
   "execution_count": null,
   "metadata": {},
   "outputs": [],
   "source": [
    "evaluation(ATAC_all, ATAC_count_filter, seed_base)"
   ]
  }
 ],
 "metadata": {
  "language_info": {
   "name": "python"
  },
  "orig_nbformat": 4
 },
 "nbformat": 4,
 "nbformat_minor": 2
}
